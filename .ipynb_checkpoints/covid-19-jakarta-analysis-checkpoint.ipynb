{
 "cells": [
  {
   "cell_type": "code",
   "execution_count": null,
   "id": "f58afe1a",
   "metadata": {},
   "outputs": [],
   "source": [
    "import pandas as pd\n",
    "import matplotlib.pyplot as plt\n",
    "import seaborn as sns\n",
    "import numpy as np\n",
    "from sklearn import preprocessing\n",
    "from sklearn.preprocessing import PolynomialFeatures\n",
    "from sklearn.linear_model import LinearRegression\n",
    "from sklearn.model_selection import train_test_split\n",
    "\n",
    "# Import data Covid-19\n",
    "df_covid_raw = pd.read_csv(\"https://raw.githubusercontent.com/reza-nugraha32/covid-19-analysis/main/dataset/raw-covid-data.csv\")\n",
    "\n",
    "# Import data PDB Indonesia\n",
    "df_PDB_raw = pd.read_csv(\"https://raw.githubusercontent.com/reza-nugraha32/covid-19-analysis/main/dataset/raw-PDB-data.csv\")\n",
    "\n",
    "# Import data mobility Indonesia 2020, 2021, dan 2022\n",
    "mob_2020 = pd.read_csv(\"https://raw.githubusercontent.com/reza-nugraha32/covid-19-analysis/main/dataset/2020_mobility_report.csv\")\n",
    "mob_2021 = pd.read_csv(\"https://raw.githubusercontent.com/reza-nugraha32/covid-19-analysis/main/dataset/2021_mobility_report.csv\")\n",
    "mob_2022 = pd.read_csv(\"https://raw.githubusercontent.com/reza-nugraha32/covid-19-analysis/main/dataset/2022_mobility_report.csv\")\n",
    "df_mobility_raw = pd.concat([mob_2020, mob_2021, mob_2022], axis=0,  ignore_index=True)"
   ]
  },
  {
   "cell_type": "code",
   "execution_count": null,
   "id": "9d885586",
   "metadata": {},
   "outputs": [],
   "source": []
  }
 ],
 "metadata": {
  "kernelspec": {
   "display_name": "Python 3 (ipykernel)",
   "language": "python",
   "name": "python3"
  },
  "language_info": {
   "codemirror_mode": {
    "name": "ipython",
    "version": 3
   },
   "file_extension": ".py",
   "mimetype": "text/x-python",
   "name": "python",
   "nbconvert_exporter": "python",
   "pygments_lexer": "ipython3",
   "version": "3.9.13"
  }
 },
 "nbformat": 4,
 "nbformat_minor": 5
}
